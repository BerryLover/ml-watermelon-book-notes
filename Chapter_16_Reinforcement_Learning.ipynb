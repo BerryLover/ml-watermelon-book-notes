{
  "nbformat": 4,
  "nbformat_minor": 0,
  "metadata": {
    "colab": {
      "provenance": [],
      "authorship_tag": "ABX9TyOQjUgeNH+pFLhbEmn9tWUr"
    },
    "kernelspec": {
      "name": "python3",
      "display_name": "Python 3"
    },
    "language_info": {
      "name": "python"
    }
  },
  "cells": [
    {
      "cell_type": "markdown",
      "source": [
        "## Chapter 16 - Reinforcement Learning\n",
        "\n",
        "_**Author:** Zitong Su_\n",
        "\n",
        "*This note includes some formula derivations (and/or extended materials) additional to the __Machine Learning (\"Watermelon Book\")__ or the __Pumpkin Book__.* <br><br>\n",
        "\n",
        "\n",
        "### 16.3 Model-based Learning\n",
        "#### 16.3.1 Additional explanation on formula 16.7\n",
        "**Problem:** It is important to understand in derivation of formula 16.7, how step 2 is transformed into step 3 while still keeping the $\\mathbb{E}_\\pi$ in the last term, as demonstrated below.\n",
        "$$\\mathbb{E}_\\pi \\left[ \\frac{1}{T} r_1 + \\frac{T - 1}{T} \\cdot \\left( \\frac{1}{T - 1} \\sum_{t=2}^T r_t \\right) \\;\\middle|\\; x_0 = x \\right] \\\\\n",
        "=\\sum_{a \\in A} \\pi(x, a) \\sum_{x' \\in X} P^a_{x \\to x'} \\left( R^a_{x \\to x'} + \\frac{T - 1}{T} \\cdot \\mathbb{E}_\\pi \\left[ \\frac{1}{T-1} \\sum_{t=1}^{T-1} r_t \\;\\middle|\\; x_0 = x' \\right] \\right)$$\n",
        "\n",
        "<br>\n",
        "\n",
        "**Derivation:**\n",
        "<br>In the left formula, it is splitted into two parts of expecations.\n",
        "$$\n",
        "\\frac{1}{T} \\mathbb{E}_\\pi[r_1 \\mid x_0 = x] + \\frac{T - 1}{T} \\mathbb{E}_\\pi \\left[ \\frac{1}{T - 1} \\sum_{t=2}^T r_t \\;\\middle|\\; x_0 = x \\right]\n",
        "$$\n",
        "\n",
        "<br>We focus only on the second term with expectation $\\mathbb{E}_\\pi \\left[ \\frac{1}{T - 1} \\sum_{t=2}^T r_t \\;\\middle|\\; x_0 = x \\right]$. With the _Law of Total Expectation_, we have\n",
        "$$\n",
        "\\mathbb{E}[Y \\mid x_0 = x] = \\sum_{z} \\Pr(Z = z \\mid x_0 = x) \\cdot \\mathbb{E}[Y \\mid Z = z]\n",
        "$$"
      ],
      "metadata": {
        "id": "nIGJFroKeHCd"
      }
    }
  ]
}