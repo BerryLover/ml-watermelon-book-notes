{
  "nbformat": 4,
  "nbformat_minor": 0,
  "metadata": {
    "colab": {
      "provenance": [],
      "authorship_tag": "ABX9TyOnvSBLJ1URmqvkxPVX6mmE"
    },
    "kernelspec": {
      "name": "python3",
      "display_name": "Python 3"
    },
    "language_info": {
      "name": "python"
    }
  },
  "cells": [
    {
      "cell_type": "markdown",
      "source": [
        "## Chapter 13 - Semi-Supervised Learning\n",
        "\n",
        "_**Author:** Zitong Su_\n",
        "\n",
        "*This note includes some formula derivations (and/or extended materials) additional to the __Machine Learning (\"Watermelon Book\")__ or the __Pumpkin Book__.* <br><br>\n",
        "\n",
        "### 13.2 Generative Methods\n",
        "#### 13.3.1 Multiplication rules of probability generalize to conditional probability\n",
        "**Problem:**\n",
        "<br>The multiplication rule of unconditional probablity is\n",
        "$$\\mathbb{P}(A, B) = \\mathbb{P}(A) \\;\\mathbb{P}(B \\;|\\; A) = \\mathbb{P}(B) \\;\\mathbb{P}(A \\;|\\; B)$$\n",
        "The multiplication rule can be extended to conditional probability as\n",
        "$$\\mathbb{P}(A, B \\;|\\; X) = \\mathbb{P}(A \\;|\\; X) \\;\\mathbb{P}(B \\;|\\; A, X) = \\mathbb{P}(B \\;|\\; X) \\;\\mathbb{P}(A \\;|\\; B, X)$$\n",
        "<br>We want to derive the multiplication rule on conditional probability.\n",
        "\n",
        "<br>\n",
        "\n",
        "**Derivation:**\n",
        "<br> From the definition of conditional probability:\n",
        "$$\n",
        "\\begin{aligned}\n",
        "\\mathbb{P}(A, B \\;|\\; X)\n",
        "&=\\frac{\\mathbb{P}(A, B, X)}{\\mathbb{P}(X)} \\\\\n",
        "&=\\frac{\\mathbb{P}(A \\;|\\; B, X) \\;\\mathbb{P}(B, X)}{\\mathbb{P}(X)} \\\\\n",
        "&=\\mathbb{P}(A \\;|\\; B, X) \\;\\frac{\\mathbb{P}(B, X)}{\\mathbb{P}(X)} \\\\\n",
        "&=\\mathbb{P}(A \\;|\\; B, X) \\;\\mathbb{P}(B \\;|\\; X)\n",
        "\\end{aligned}\n",
        "$$\n",
        "\n",
        "The same applies if we swith $A$ and $B$ in the derivation.\n",
        "Thus we have\n",
        "$$\n",
        "\\mathbb{P}(A, B \\;|\\; X)\n",
        "= \\mathbb{P}(B \\;|\\; X) \\;\\mathbb{P}(A \\;|\\; B, X)\n",
        "=\\mathbb{P}(A \\;|\\; X) \\;\\mathbb{P}(B \\;|\\; A, X)\n",
        "$$\n",
        "\n",
        "We can also replace any of $A$, $B$, or $X$ with multiple variables. If we replace $B$ with $B$, $C$, and replace $X$ with $X$, $Y$, then we have\n",
        "$$\n",
        "\\mathbb{P}(A, B, C \\;|\\; X, Y)\n",
        "= \\mathbb{P}(B, C \\;|\\; X, Y) \\;\\mathbb{P}(A \\;|\\; B, C, X, Y)\n",
        "=\\mathbb{P}(A, C \\;|\\; X, Y) \\;\\mathbb{P}(B \\;|\\; A, C, X, Y)\n",
        "=\\mathbb{P}(A, B \\;|\\; X, Y) \\;\\mathbb{P}(C \\;|\\; A, B, X, Y)\n",
        "$$\n",
        "\n",
        "\n",
        "<br>\n",
        "\n",
        "### 13.3 Semi-Supervised SVM\n",
        "#### 13.3.1 Data quality is important\n",
        "\n",
        ".\n"
      ],
      "metadata": {
        "id": "U6DLK-Gvl-sV"
      }
    }
  ]
}