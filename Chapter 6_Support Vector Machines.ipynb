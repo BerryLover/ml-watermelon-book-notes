{
  "nbformat": 4,
  "nbformat_minor": 0,
  "metadata": {
    "colab": {
      "provenance": []
    },
    "kernelspec": {
      "name": "python3",
      "display_name": "Python 3"
    },
    "language_info": {
      "name": "python"
    }
  },
  "cells": [
    {
      "cell_type": "markdown",
      "source": [
        "## Chapter 6 - Support Vector Machines\n",
        "\n",
        "_**Author:** Zitong Su_\n",
        "\n",
        "*This note includes some formula derivations (and/or extended materials) additional to the __Machine Learning (\"watermelon\" book)__ or the __Pumpkin Book__.*\n",
        "\n",
        "### 6.1 Interval and Support Vector\n",
        "#### 6.1.1 Derivation on formula (6.2)\n",
        "**Problem:** The learning strategy of SVM is to find a hyperplane, where the sum of the distances between misclassified points and the hyperplane is minimized. It requires us to calculate the distance between a given point and a hyperplane in space $\\mathbb{R}^{n}$.\n",
        "\n",
        "<br>**Formula:** In space $\\mathbb{R}^{n}$, the distance $d$ between a hyperplane $\\mathbf{w^{T} x}+b=0$ and a random point $x$ is:\n",
        "<br>$$d=\\dfrac{\\lvert \\mathbf{w^{T} x}+b \\rvert}{\\lVert \\mathbf{w} \\rVert}$$\n",
        "\n",
        "<br>**Derivation:** Assume a hyperplane $\\mathbf{w^Tx}+b=0$ and a random point $x_0$ in space $\\mathbb{R}^{n}$. The projection of $x_0$ on the hyperplane is point $x_1$. Also, we choose any point on the hyperplane as $x_2$. The vector from $x_0$ to $x_1$ is denoted as $\\mathbf{v_{01}}$, and the same applies to $\\mathbf{v_{02}}$ and $\\mathbf{v_{12}}$. The angle between $\\mathbf{v_{01}}$ and $\\mathbf{v_{02}}$ is $\\theta$.\n",
        "\n",
        "<br>$w$ is a normal vector of the hyperspace, which is perpendicular to the hyperplane. Given $x_1$ is the orthogonal projection of $x_0$, we know by definition that the vector $\\mathbf{v_{01}}$ is also perpendicular to the hyperplane. Thus, $\\mathbf{v_{01}}=k\\mathbf{w}$ ($k\\in\\mathbb{R}$).\n",
        "\n",
        "![6.1.1.png](figures/6.1.1.png)\n",
        "\n",
        "<br> Given the vector angle formula, we know that:\n",
        "<br>$$\\cos\\theta=\\dfrac{\\mathbf{v_{01}} \\cdot \\mathbf{v_{02}}}{\\lVert \\mathbf{v_{01}} \\rVert \\lVert \\mathbf{v_{02}} \\rVert}$$ (The numerator is the inner/dot product of vector $\\mathbf{v_{01}}$ and vector $\\mathbf{v_{02}}$.)\n",
        "\n",
        "<br>By transforming the formula:\n",
        "<br>$\\lVert\\mathbf{v_{02}}\\rVert \\cos\\theta=\\dfrac{\\mathbf{v_{01}} \\cdot \\mathbf{v_{02}}}{\\lVert \\mathbf{v_{01}} \\rVert}$\n",
        "<br>$d=\\dfrac{\\mathbf{v_{01}} \\cdot \\mathbf{v_{02}}}{\\lVert \\mathbf{v_{01}} \\rVert}$\n",
        "<br>Note that $\\mathbf{v_{01}} \\cdot \\mathbf{v_{02}}\n",
        "= \\mathbf{v_{01}} \\cdot (\\mathbf{v_{01}} + \\mathbf{v_{12}})\n",
        "= \\mathbf{v_{01}^2} + \\mathbf{v_{01}} \\cdot \\mathbf{v_{12}}\n",
        "= \\mathbf{v_{01}^2}\n",
        "\\ge 0$\n",
        "<br>$d=\\dfrac{\\vert k \\vert  \\vert \\mathbf{w} \\cdot \\mathbf{v_{02}}\\vert}{\\lVert k\\mathbf{w} \\rVert}$\n",
        "<br>$d=\\dfrac{\\vert k \\vert \\vert\\mathbf{w} \\cdot (\\mathbf{v_{01}}+\\mathbf{v_{12}})\\vert}{\\vert k \\vert \\lVert \\mathbf{w} \\rVert}$\n",
        "<br>$d=\\dfrac{\\vert\\mathbf{w} \\cdot \\mathbf{v_{01}}+\\mathbf{w} \\cdot \\mathbf{v_{12}}\\vert}{\\lVert \\mathbf{w} \\rVert}$\n",
        "<br>Note that $\\mathbf{w}$ is perpendicular to $\\mathbf{v_{12}}$, a vector on the hyperplane. We have $\\mathbf{w} \\cdot \\mathbf{v_{12}} = 0.$\n",
        "<br>$d=\\dfrac{\\vert\\mathbf{w} \\cdot \\mathbf{v_{01}}\\vert}{\\lVert \\mathbf{w} \\rVert}$\n",
        "<br>$d=\\dfrac{\\vert\\mathbf{w} \\cdot (\\mathbf{x_{1}}-\\mathbf{x_{0}})\\vert}{\\lVert \\mathbf{w} \\rVert}$\n",
        "<br>Note that point $x_1$ is on the hyperplane, $\\mathbf{w \\cdot x_{1}+b=0}$\n",
        "<br>$d=\\dfrac{\\vert-b-\\mathbf{w} \\cdot \\mathbf{x_{0}}\\vert}{\\lVert \\mathbf{w} \\rVert}$\n",
        "<br>$d=\\dfrac{\\vert\\mathbf{w} \\cdot \\mathbf{x_{0}}+b\\vert}{\\lVert \\mathbf{w} \\rVert}$\n",
        "<br>$d=\\dfrac{\\vert\\mathbf{w^T}\\mathbf{x_{0}}+b\\vert}{\\lVert \\mathbf{w} \\rVert}$\n",
        "\n"
      ],
      "metadata": {
        "id": "uk5IWG1mrEve"
      }
    }
  ]
}